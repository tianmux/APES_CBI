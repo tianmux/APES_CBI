{
 "cells": [
  {
   "cell_type": "code",
   "execution_count": 1,
   "metadata": {},
   "outputs": [],
   "source": [
    "import select_program as sp\n",
    "import input_class\n",
    "import os"
   ]
  },
  {
   "cell_type": "code",
   "execution_count": 3,
   "metadata": {},
   "outputs": [
    {
     "name": "stdout",
     "output_type": "stream",
     "text": [
      "Reading input file:  input.txt\n",
      "type  :  ['1.0']\n",
      "csv_out  :  ['0']\n",
      "dynamicOn  :  ['0']\n",
      "n_per_show  :  ['10']\n",
      "turn_start  :  ['0']\n",
      "mainRF  :  ['0']\n",
      "main_detune  :  ['0']\n",
      "detune_slow_factor  :  ['1.0']\n",
      "R  :  ['15915.494309189535']\n",
      "GMTSQ  :  ['67567.56756756756']\n",
      "Gamma  :  ['89041.27885194284']\n",
      "nBeam  :  ['1']\n",
      "beam_shift  :  ['94']\n",
      "n_turns  :  ['600']\n",
      "n_dynamicOn  :  ['400']\n",
      "n_bunches  :  ['13551']\n",
      "n_fill  :  ['100']\n",
      "n_q_ramp  :  ['200']\n",
      "n_detune_start  :  ['100']\n",
      "n_detune_ramp  :  ['300']\n",
      "n_detune_ramp_tot  :  ['300']\n",
      "n_I_ramp_start  :  ['100']\n",
      "n_I_ramp_end  :  ['300']\n",
      "step_store  :  ['100']\n",
      "Prad  :  ['16482757.04891692']\n",
      "t_rad_long  :  ['0.425']\n",
      "Ek_damp  :  ['200000000000.0']\n",
      "Ek_damp_always  :  ['200000000000.0']\n",
      "Npar  :  ['1440']\n",
      "NperBunch  :  ['70769446812.42464']\n",
      "N_bins  :  ['129']\n",
      "fill_step  :  ['16']\n",
      "siglong  :  ['33.835685963738285']\n",
      "A  :  ['1.0']\n",
      "n_ini_CBI  :  ['1']\n",
      "mu  :  ['0']\n",
      "CBI_ini_amp  :  ['0']\n",
      "nRF  :  ['2']\n",
      "nRF1  :  ['2']\n",
      "nRFc  :  ['0']\n",
      "nRF2  :  ['0']\n",
      "nHOM  :  ['0']\n",
      "nCav  :  ['33' '27']\n",
      "h  :  ['216816' '216816']\n",
      "I_Q_ref_ini  :  ['-0.043372346148293585' '0.04066588194561366']\n",
      "I_Q_ref_final  :  ['-0.08674469229658716' '0.08133176389122723']\n",
      "RoQ  :  ['3514.5' '2875.5']\n",
      "delay  :  ['0' '0']\n",
      "n_fb_on  :  ['50.0' '50.0']\n",
      "gII  :  ['0.0' '0.0']\n",
      "gQQ  :  ['0.0' '0.0']\n",
      "gIQ  :  ['0.0' '0.0']\n",
      "gQI  :  ['0.0' '0.0']\n",
      "gIIi  :  ['0.0' '0.0']\n",
      "gQQi  :  ['0.0' '0.0']\n",
      "gIQi  :  ['0.0' '0.0']\n",
      "gQIi  :  ['0.0' '0.0']\n",
      "PA_cap  :  ['1.0' '1.0']\n",
      "QL  :  ['4143800.857060435' '4143800.8570604497']\n",
      "Vref_I  :  ['513479187.13795626' '-420119334.9310551']\n",
      "Vref_Q  :  ['-19707644.297618084' '-16124436.243505614']\n",
      "Iref_I  :  ['0.06729100776161856' '-0.07374188463516071']\n",
      "Iref_Q  :  ['-0.08674469229658716' '0.08133176389122723']\n",
      "I_I_ref_ini  :  ['0.03364550388080929' '-0.036870942317580396']\n",
      "I_I_ref_final  :  ['0.06729100776161856' '-0.07374188463516071']\n",
      "detune  :  ['0.0' '0.0']\n",
      "detune_ini  :  ['93.46944415569305' '93.46944415569305']\n",
      "detune_mid  :  ['-975.006070792675' '1068.478740632534']\n",
      "detune_final  :  ['-1856.542697429657' '2230.426925420761']\n"
     ]
    }
   ],
   "source": [
    "cwd = os.getcwd()\n",
    "fn_input = 'input.txt'\n",
    "\n",
    "address = \"/home/tianmu/Documents/Code/APES_dev/APESAVX2\"\n",
    "prog_to_run = sp.Program_to_run(address)\n",
    "\n",
    "input1 = input_class.Input(fn_input)\n",
    "\n",
    "for i in input1.variables:\n",
    "    print(i,\" : \",input1.variables[i])\n",
    "#prog_to_run.run()"
   ]
  },
  {
   "cell_type": "code",
   "execution_count": null,
   "metadata": {},
   "outputs": [],
   "source": []
  }
 ],
 "metadata": {
  "kernelspec": {
   "display_name": "Python 3",
   "language": "python",
   "name": "python3"
  },
  "language_info": {
   "codemirror_mode": {
    "name": "ipython",
    "version": 3
   },
   "file_extension": ".py",
   "mimetype": "text/x-python",
   "name": "python",
   "nbconvert_exporter": "python",
   "pygments_lexer": "ipython3",
   "version": "3.8.5"
  }
 },
 "nbformat": 4,
 "nbformat_minor": 4
}
