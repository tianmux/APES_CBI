{
 "cells": [
  {
   "cell_type": "code",
   "execution_count": 1,
   "metadata": {},
   "outputs": [],
   "source": [
    "import matplotlib.pyplot as plt\n",
    "import matplotlib.ticker as ticker\n",
    "import numpy as np\n",
    "import struct\n",
    "import sys\n",
    "from array import array\n",
    "\n",
    "import itertools\n",
    "import os\n",
    "import sys\n",
    "import ult\n",
    "from scipy import signal\n",
    "from scipy.optimize import curve_fit\n",
    "\n",
    "pi = np.pi\n",
    "clight = 299792458\n",
    "E0Au = 196.9665687*931.5e6\n",
    "E0Elec = 0.51099895000e6\n",
    "E0P = 938.27208816e6\n"
   ]
  },
  {
   "cell_type": "code",
   "execution_count": 2,
   "metadata": {},
   "outputs": [
    {
     "data": {
      "text/plain": [
       "'/home/txin/Code/APES_dev/run_scripts/Run_tool/run_and_view_20210423'"
      ]
     },
     "execution_count": 2,
     "metadata": {},
     "output_type": "execute_result"
    }
   ],
   "source": [
    "os.getcwd()"
   ]
  },
  {
   "cell_type": "code",
   "execution_count": 84,
   "metadata": {},
   "outputs": [
    {
     "ename": "ValueError",
     "evalue": "could not convert string to float: '_60'",
     "output_type": "error",
     "traceback": [
      "\u001b[0;31m---------------------------------------------------------------------------\u001b[0m",
      "\u001b[0;31mValueError\u001b[0m                                Traceback (most recent call last)",
      "\u001b[0;32m<ipython-input-84-a51e1f727ece>\u001b[0m in \u001b[0;36m<module>\u001b[0;34m\u001b[0m\n\u001b[1;32m     18\u001b[0m \u001b[0;31m#get the starting index in the folder name string that represent the substring of loading angle\u001b[0m\u001b[0;34m\u001b[0m\u001b[0;34m\u001b[0m\u001b[0;34m\u001b[0m\u001b[0m\n\u001b[1;32m     19\u001b[0m \u001b[0mi_start_thetaL\u001b[0m \u001b[0;34m=\u001b[0m \u001b[0mworking_folder\u001b[0m\u001b[0;34m.\u001b[0m\u001b[0mfind\u001b[0m\u001b[0;34m(\u001b[0m\u001b[0;34m'ThetaL1_'\u001b[0m\u001b[0;34m)\u001b[0m\u001b[0;34m+\u001b[0m\u001b[0;36m8\u001b[0m\u001b[0;34m\u001b[0m\u001b[0;34m\u001b[0m\u001b[0m\n\u001b[0;32m---> 20\u001b[0;31m \u001b[0mthetaL1\u001b[0m \u001b[0;34m=\u001b[0m \u001b[0mfloat\u001b[0m\u001b[0;34m(\u001b[0m\u001b[0mworking_folder\u001b[0m\u001b[0;34m[\u001b[0m\u001b[0mi_start_thetaL\u001b[0m\u001b[0;34m:\u001b[0m\u001b[0mi_start_thetaL\u001b[0m\u001b[0;34m+\u001b[0m\u001b[0;36m3\u001b[0m\u001b[0;34m]\u001b[0m\u001b[0;34m)\u001b[0m\u001b[0;34m\u001b[0m\u001b[0;34m\u001b[0m\u001b[0m\n\u001b[0m\u001b[1;32m     21\u001b[0m \u001b[0mi_start_thetaL2\u001b[0m \u001b[0;34m=\u001b[0m \u001b[0mworking_folder\u001b[0m\u001b[0;34m.\u001b[0m\u001b[0mfind\u001b[0m\u001b[0;34m(\u001b[0m\u001b[0;34m'ThetaL2_'\u001b[0m\u001b[0;34m)\u001b[0m\u001b[0;34m+\u001b[0m\u001b[0;36m8\u001b[0m\u001b[0;34m\u001b[0m\u001b[0;34m\u001b[0m\u001b[0m\n\u001b[1;32m     22\u001b[0m \u001b[0mthetaL2\u001b[0m \u001b[0;34m=\u001b[0m \u001b[0mfloat\u001b[0m\u001b[0;34m(\u001b[0m\u001b[0mworking_folder\u001b[0m\u001b[0;34m[\u001b[0m\u001b[0mi_start_thetaL2\u001b[0m\u001b[0;34m:\u001b[0m\u001b[0mi_start_thetaL2\u001b[0m\u001b[0;34m+\u001b[0m\u001b[0;36m3\u001b[0m\u001b[0;34m]\u001b[0m\u001b[0;34m)\u001b[0m\u001b[0;34m\u001b[0m\u001b[0;34m\u001b[0m\u001b[0m\n",
      "\u001b[0;31mValueError\u001b[0m: could not convert string to float: '_60'"
     ]
    }
   ],
   "source": [
    "#working_folder = '/media/dataHD/APES_sim_data/CBI/APES/case19_8/000000000000000nmacro1440_nBin257_Idc2.50A_ThetaL15.0degree_ThetaL2-5.0degree_delay0.000us_gain0.00_0.00/'\n",
    "#working_folder = 'case19_7_2.5A_scan_gain/000000000000000008nmacro14400_nBin257_Idc2.50A_ThetaL1_0.00degree_ThetaL2_0.00degree_ThetaL3_0.00degree_delay0.000us_gain40.00_40.00/'\n",
    "#working_folder = 'case19_7_2.5A_stablize_centroid_14400_gain/000000000000000000nmacro14400_nBin666_Idc2.50A_ThetaL1_5.00degree_ThetaL2_-5.00degree_ThetaL3_5.00degree_3rd_0.000_delay0.000us_gain50.00_50.00_50.00//'\n",
    "#working_folder = '/media/dataHD/APES_sim_data/CBI/APES/case19_8/000000000000000nmacro1440_nBin257_Idc2.50A_ThetaL15.0degree_ThetaL2-5.0degree_delay0.000us_gain0.00_0.00/' # 18cav1cell case\n",
    "#working_folder = '/media/dataHD/APES_sim_data/CBI/APES/case19_7_scan/000000000000000nmacro14400_nBin257_Idc2.50A_ThetaL15.0degree_ThetaL2-5.0degree_delay0.000us_gain0.00_0.00/' # 18cav1cell case uniform\n",
    "#working_folder = '5GeV/1cell_13F5D/000000000000000nmacro1440_nBin257_Idc1.90A_ThetaL15.0degree_ThetaL2-5.0degree_delay0.000us_gain0.00_0.00/'\n",
    "#working_folder = '5GeV/1cell_12F6D_trad_35ms/000000000000000nmacro1440_nBin257_Idc1.90A_ThetaL15.0degree_ThetaL2-5.0degree_delay0.000us_gain0.00_0.00/'\n",
    "#working_folder = '18GeV/1cell_18F/000000000000nmacro1440_nBin257_Idc0.27A_ThetaL15.0degree_delay0.000us_gain0.00_0.00/'\n",
    "#working_folder = '5GeV/1cell_12F6D_gap_trad_25ms/000000000000000nmacro1440_nBin257_Idc1.90A_ThetaL130.0degree_ThetaL2-30.0degree_delay0.000us_gain2.00_2.00/'\n",
    "#working_folder = '/media/dataHD/APES_sim_data/EIC/eSR/5GeV/1cell_12F6D_gap_trad_35ms_nogain/000000000000000nmacro14400_nBin257_Idc1.90A_ThetaL16.0degree_ThetaL26.0degree_delay0.000us_gain0.00_0.00/'\n",
    "#working_folder = '../3rd/gain/000000000000000006nmacro1440_nBin99_Idc2.50A_ThetaL1_-10.00degree_ThetaL2_10.00degree_ThetaL3_10.00degree_3rd_0.000_delay0.000us_gain31.00_31.00/'\n",
    "#working_folder = '/media/dataHD/APES_sim_data/EIC/eSR/3rd/Ek_damp_10_passive/000000000000000000nmacro14400_nBin333_Idc2.50A_ThetaL1_10.00degree_ThetaL2_-10.00degree_ThetaL3_0.00degree_3rd_  0_delay0.000us_gain0.00_0.00/'\n",
    "#working_folder = '/media/dataHD/APES_sim_data/NSLSII_OL/000000000000nmacro14400_nBin333_Idc0.40A_ThetaL1_2.00degree_delay0.000us_gain0.00_0.00/'\n",
    "working_folder = './TDR_Z_60F_Train150_gap0.1_g00_1000Turn_stepStore100_bin33/0000nmacro1440_nBin35_Idc0.84A_ThetaL10.0degree/'\n",
    "working_folder = '/home/txin/Documents/Work_Folder/Projects/2.CEPC/Sims/Booster_pattern/Booster_Pattern/'\n",
    "\n",
    "cwd = working_folder#os.path.join(home,working_folder)\n",
    "datafile = 'data.bin'\n",
    "datafile = os.path.join(cwd,datafile)\n",
    "#get the starting index in the folder name string that represent the substring of loading angle\n",
    "i_start_thetaL = working_folder.find('ThetaL1_')+8\n",
    "thetaL1 = float(working_folder[i_start_thetaL:i_start_thetaL+3])\n",
    "i_start_thetaL2 = working_folder.find('ThetaL2_')+8\n",
    "thetaL2 = float(working_folder[i_start_thetaL2:i_start_thetaL2+3])\n"
   ]
  },
  {
   "cell_type": "code",
   "execution_count": 85,
   "metadata": {},
   "outputs": [],
   "source": [
    "inputfile = 'input.txt'\n",
    "inputfile = os.path.join(cwd,inputfile)\n",
    "tempinput = ult.get_input_para(inputfile);"
   ]
  },
  {
   "cell_type": "code",
   "execution_count": 86,
   "metadata": {},
   "outputs": [
    {
     "name": "stdout",
     "output_type": "stream",
     "text": [
      "Qs =  0.028068271645354158\n"
     ]
    }
   ],
   "source": [
    "nRF = int(tempinput['nRF'][0])\n",
    "nRF1 = int(tempinput['nRF1'][0])\n",
    "nRF2 = int(tempinput['nRF2'][0])\n",
    "nRFc = int(tempinput['nRFc'][0])\n",
    "\n",
    "nTurns = int(tempinput['n_turns'][0])\n",
    "nfill = int(tempinput['n_fill'][0])\n",
    "n_q_ramp = int(tempinput['n_q_ramp'][0])\n",
    "NpRF = int(tempinput['N_bins'][0])\n",
    "h = [int(i) for i in tempinput['h']]\n",
    "detune_ini = np.array([i for i in tempinput['detune_ini']])\n",
    "detune_fin = np.array([i for i in tempinput['detune_final']])\n",
    "step = int(tempinput['step_store'][0])\n",
    "fill_step = int(tempinput['fill_step'][0])\n",
    "nBeam = int(tempinput['nBeam'][0])\n",
    "beam_shift = int(tempinput['beam_shift'][0])\n",
    "nBunch = int(tempinput['n_bunches'][0])\n",
    "nPar = int(tempinput['Npar'][0])\n",
    "NperBunch = int(tempinput['NperBunch'][0])\n",
    "nTot = nBunch*nPar*nBeam\n",
    "Gamma0 = tempinput['Gamma'][0]\n",
    "Rring = tempinput['R'][0]\n",
    "beta = np.sqrt(1-1/Gamma0**2)\n",
    "T0 = 2*np.pi*Rring/(clight*beta)\n",
    "f0 = 1/T0\n",
    "V0 = [i for i in tempinput['Vref_I']]\n",
    "V0Q = [i for i in tempinput['Vref_Q']]\n",
    "II = [i for i in tempinput['Iref_I']]\n",
    "IQ = [i for i in tempinput['Iref_Q']]\n",
    "mainRF = int(tempinput['mainRF'][0])\n",
    "nCav = np.array([i for i in tempinput['nCav']])\n",
    "NF = int(tempinput['nCav'][0])\n",
    "if nRF == 2:\n",
    "    ND = int(tempinput['nCav'][1])\n",
    "else:\n",
    "    ND = 0\n",
    "\n",
    "Prad = tempinput['Prad'][0]\n",
    "if int(tempinput['type'][0]==2):\n",
    "    atomicZ = 79\n",
    "    Ek = Gamma0*E0Au\n",
    "else:\n",
    "    atomicZ =1\n",
    "if int(tempinput['type'][0]==1):  \n",
    "    Ek = Gamma0*E0Elec\n",
    "if int(tempinput['type'][0]==0):\n",
    "    Ek = Gamma0*E0P\n",
    "    \n",
    "GMTSQ = tempinput['GMTSQ'][0]\n",
    "Ek_damp = tempinput['Ek_damp'][0]\n",
    "\n",
    "eta = 1/GMTSQ-1/Gamma0**2\n",
    "if nRF ==1:\n",
    "    Qs = np.sqrt(h[mainRF]*atomicZ*np.abs(V0[mainRF])*eta/(2*np.pi*Ek))\n",
    "elif nRF != 1 :\n",
    "    Qs = np.sqrt(h[mainRF]*atomicZ*np.abs(V0[mainRF]+V0[1])*eta/(2*np.pi*Ek))\n",
    "\n",
    "omegarf = 2*np.pi*(np.array(h)*f0)\n",
    "omegac = 2*np.pi*(np.array(h)*f0+detune_fin)\n",
    "Trf = 2*np.pi/omegarf\n",
    "dt = Trf/NpRF\n",
    "RoQ = [i for i in tempinput['RoQ']]\n",
    "QL = [i for i in tempinput['QL']]\n",
    "R = [RoQ[i]*QL[i] for i in range(nRF)]\n",
    "\n",
    "Th = 2*np.pi/omegarf[0]\n",
    "dthat =Th/NpRF\n",
    "\n",
    "pattern = 'd'+'dd'*nBeam+3*nRF*'d'\n",
    "n_stride = 1+2*nBeam+3*nRF\n",
    "stride = len(pattern)*8\n",
    "\n",
    "bucket_height = 2*Qs/(h[mainRF]*eta)*Gamma0\n",
    "\n",
    "print(\"Qs = \",Qs)"
   ]
  },
  {
   "cell_type": "code",
   "execution_count": 87,
   "metadata": {},
   "outputs": [
    {
     "data": {
      "text/plain": [
       "[52373.708920187804]"
      ]
     },
     "execution_count": 87,
     "metadata": {},
     "output_type": "execute_result"
    }
   ],
   "source": [
    "QL"
   ]
  },
  {
   "cell_type": "code",
   "execution_count": 88,
   "metadata": {},
   "outputs": [],
   "source": [
    "V,Ig,Ibi,Ibi2,Vref,Iref = ult.get_VI(datafile,n_stride,nTurns,step,NpRF,h,nRF,nBeam,omegarf,V0,V0Q,II,IQ)"
   ]
  },
  {
   "cell_type": "code",
   "execution_count": 98,
   "metadata": {
    "scrolled": false
   },
   "outputs": [
    {
     "name": "stdout",
     "output_type": "stream",
     "text": [
      "1\n"
     ]
    },
    {
     "data": {
      "image/png": "[encoded data removed]",
      "text/plain": [
       "<Figure size 2160x2160 with 4 Axes>"
      ]
     },
     "metadata": {
      "needs_background": "light"
     },
     "output_type": "display_data"
    }
   ],
   "source": [
    "startTurn = 0# int(nTurns/step-1)\n",
    "startRF = 100000*fill_step-0\n",
    "nRFsamp = 1\n",
    "\n",
    "ult.plot_VI(startTurn,startRF,nRF,nRFsamp,NpRF,nBeam,h,V,Vref,Iref,Ig,Ibi,Ibi2,cwd)"
   ]
  },
  {
   "cell_type": "code",
   "execution_count": null,
   "metadata": {},
   "outputs": [],
   "source": [
    "# get the synchronous phase\n",
    "M1_all = array('d')\n",
    "M1_fn = 'M1_all.bin'\n",
    "datafile = os.path.join(cwd,M1_fn)    \n",
    "with open(datafile, mode='rb') as file: # b is important -> binary\n",
    "    M1_all.fromfile(file,2*nTurns*nBeam*nBunch)\n",
    "M1_1 = []\n",
    "M1_2 = []\n",
    "for i in range(nTurns):\n",
    "    for j in range(nBunch):\n",
    "        M1_1.append(M1_all[i*nBunch*2+j])\n",
    "        M1_2.append(M1_all[i*nBunch*2+nBunch+j]-Gamma0)"
   ]
  },
  {
   "cell_type": "code",
   "execution_count": null,
   "metadata": {},
   "outputs": [],
   "source": [
    "turn_to_look = 500\n",
    "\n",
    "data_point_inVI = int(turn_to_look/step)\n",
    "M1_1_x = np.array([i for i in M1_1[turn_to_look*nBunch:(turn_to_look+1)*nBunch]/dt[0]])\n",
    "\n",
    "M1_1_bin = np.array([int(i) for i in M1_1[turn_to_look*nBunch:(turn_to_look+1)*nBunch]/dt[0]])\n",
    "\n",
    "# voltage at bunch center\n",
    "V_B = np.ndarray((nRF,nBunch))\n",
    "V_B_dot = np.ndarray((nRF,nBunch))\n",
    "Phis = np.ndarray((nRF,nBunch))\n",
    "for iRF in range(nRF):\n",
    "    for iBin in range(len(M1_1_bin)):\n",
    "        V_B[iRF][iBin] = V[iRF][data_point_inVI*h[0]*NpRF+M1_1_bin[iBin]]*(1-M1_1_x[iBin]+M1_1_bin[iBin])+\\\n",
    "                        V[iRF][data_point_inVI*h[0]*NpRF+M1_1_bin[iBin]+1]*(M1_1_x[iBin]-M1_1_bin[iBin])\n",
    "        V_B_dot[iRF][iBin] = (V[iRF][data_point_inVI*h[0]*NpRF+M1_1_bin[iBin]+1]-V[iRF][data_point_inVI*h[0]*NpRF+M1_1_bin[iBin]-1])/2/dt[iRF]\n",
    "        Phis[iRF][iBin] = np.arctan(V_B[iRF][iBin]*omegarf[iRF]/V_B_dot[iRF][iBin])/pi*180"
   ]
  },
  {
   "cell_type": "code",
   "execution_count": null,
   "metadata": {},
   "outputs": [],
   "source": [
    "plt.plot(V_B[0],'r')\n",
    "#plt.plot(V_B[1],'g')\n",
    "#plt.plot(V_B[0]+V_B[1],'b')\n",
    "plt.show()"
   ]
  },
  {
   "cell_type": "code",
   "execution_count": null,
   "metadata": {
    "scrolled": false
   },
   "outputs": [],
   "source": [
    "plt.plot(Phis[0]+180)\n",
    "plt.show()\n",
    "#plt.plot(Phis[1])\n",
    "#plt.show()\n",
    "#plt.plot(Phis[2])\n",
    "#plt.show()"
   ]
  },
  {
   "cell_type": "code",
   "execution_count": null,
   "metadata": {},
   "outputs": [],
   "source": [
    "# get the stored energy\n",
    "R = np.array(R)\n",
    "V = np.array(V)\n",
    "U = V**2/RoQ[0]/omegarf[0]\n",
    "#U[1] = V[1]**2/RoQ[1]/omegarf[1]\n",
    "U_bucket = np.ndarray((nRF,int(nTurns/step*h[0])))\n",
    "\n",
    "for iRF in range(nRF):\n",
    "    for iBucket in range(int(nTurns/step*h[0])):\n",
    "        rng1 = iBucket*NpRF\n",
    "        rng2 = rng1+NpRF*1#fill_step*1\n",
    "        U_bucket[iRF][iBucket] = np.sum(U[iRF][rng1:rng2])/(rng2-rng1)\n",
    "dU_bucket = U_bucket[:,1:-1]-U_bucket[:,:-2]\n"
   ]
  },
  {
   "cell_type": "code",
   "execution_count": null,
   "metadata": {},
   "outputs": [],
   "source": [
    "#plot U_bucket\n",
    "\n",
    "fig1,axes1 = plt.subplots(1,1)\n",
    "turn_to_look = 400\n",
    "bunch_to_look = 0\n",
    "\n",
    "num_of_RF_to_look = h[0]\n",
    "rng1 = int(turn_to_look/step)*h[0]+bunch_to_look*fill_step\n",
    "rng2 = rng1+num_of_RF_to_look#h[0]*1\n",
    "print(rng1,rng2)\n",
    "axes1.plot(U_bucket[0][rng1:rng2]/nCav[0],'r.')\n",
    "#axes1.plot(U_bucket[1][rng1:rng2]/nCav[1],'g.')\n",
    "#axes1.plot((U_bucket[1][rng1:rng2]+U_bucket[0][rng1:rng2])/(nCav[0]+nCav[1]),'b.')\n",
    "#axes1.set_ylim([47,49])\n",
    "axes1.set_ylabel(\"Stored Energy [J]\",fontsize=20)\n",
    "axes1.set_xlabel(\"Bucket #\",fontsize=20)\n",
    "axes1.legend([\"U_F\",\"U_D\",\"U_tot\"])\n",
    "axes1.set_title(\"Stored Energy per Cavity[J]\")\n",
    "axes1.tick_params(labelsize=20)\n",
    "y_labels = axes1.get_yticks()\n",
    "#axes1.yaxis.set_major_formatter(ticker.FormatStrFormatter('%0.3f'))\n",
    "\n",
    "fig1.set_figheight(8)\n",
    "fig1.set_figwidth(100)\n",
    "plt.show()"
   ]
  },
  {
   "cell_type": "code",
   "execution_count": null,
   "metadata": {},
   "outputs": [],
   "source": [
    "#plot dU_buchet\n",
    "\n",
    "fig1,axes1 = plt.subplots(1,1)\n",
    "#rng1 = int(3000/step)*h[0]\n",
    "#rng2 = rng1+h[0]\n",
    "#print(rng1,rng2)\n",
    "axes1.plot(dU_bucket[0][rng1:rng2]/nCav[0],'r.')\n",
    "#axes1.plot(dU_bucket[1][rng1:rng2]/nCav[1],'g.')\n",
    "#axes1.plot((dU_bucket[1][rng1:rng2]+dU_bucket[0][rng1:rng2])/(nCav[0]+nCav[1]),'b.')\n",
    "#axes1.set_ylim([47,49])\n",
    "axes1.set_ylabel(\"dU [J]\",fontsize=20)\n",
    "axes1.set_xlabel(\"Bucket #\",fontsize=20)\n",
    "axes1.legend([\"dU_F\",\"dU_D\",\"dU_tot\"])\n",
    "axes1.set_title(\"Change of Stored Energy per Cavity[J]\")\n",
    "axes1.tick_params(labelsize=20)\n",
    "y_labels = axes1.get_yticks()\n",
    "#axes1.yaxis.set_major_formatter(ticker.FormatStrFormatter('%0.3f'))\n",
    "\n",
    "fig1.set_figheight(8)\n",
    "fig1.set_figwidth(10)\n",
    "plt.show()"
   ]
  },
  {
   "cell_type": "code",
   "execution_count": null,
   "metadata": {},
   "outputs": [],
   "source": [
    "# get the beam power\n",
    "Ig= np.array(Ig)\n",
    "V = np.array(V)\n",
    "\n",
    "P_B_from_VI = V*Ibi # every time step\n",
    "\n",
    "P_B = np.ndarray((int(nTurns/step))) # average over one turn\n",
    "P_B_bucket = np.ndarray((nRF,int(nTurns/step*h[0]))) # average over one bucket?\n",
    "\n",
    "for iRF in range(nRF):\n",
    "    for iBucket in range(int(nTurns/step*h[0])):\n",
    "        rng1 = iBucket*NpRF\n",
    "        rng2 = rng1+NpRF*2*1\n",
    "        P_B_bucket[iRF][iBucket] = np.sum(P_B_from_VI[iRF][rng1:rng2])/(rng2-rng1)/1e6\n",
    "\n",
    "for iTurn in range(int(nTurns/step)):\n",
    "    rng1 = iTurn*h[0]*NpRF\n",
    "    rng2 = rng1+h[0]*NpRF\n",
    "    P_B[iTurn] = np.sum(P_B_from_VI[:,rng1:rng2])/(rng2-rng1)"
   ]
  },
  {
   "cell_type": "code",
   "execution_count": null,
   "metadata": {},
   "outputs": [],
   "source": [
    "#plot P_B_from_VI\n",
    "fig1,axes1 = plt.subplots(1,1)\n",
    "rng1 = int(3000/step)*h[0]*NpRF+0*fill_step*NpRF\n",
    "rng2 = rng1+1*NpRF\n",
    "axes1.plot(P_B_from_VI[0][rng1:rng2]/1e6,'r.-')\n",
    "#axes1.plot(P_B_from_VI[1][rng1:rng2]/1e6,'g.-')\n",
    "fig1.set_figheight(8)\n",
    "fig1.set_figwidth(8)\n",
    "plt.show()"
   ]
  },
  {
   "cell_type": "code",
   "execution_count": null,
   "metadata": {},
   "outputs": [],
   "source": [
    "# Plot P_B every bucket\n",
    "\n",
    "fig1,axes1 = plt.subplots(1,1)\n",
    "turn_to_look = 500\n",
    "bunch_to_look = 10\n",
    "\n",
    "num_of_RF_to_look = 1615\n",
    "rng1 = int(turn_to_look/step)*h[0]+bunch_to_look*fill_step-10\n",
    "rng2 = rng1+num_of_RF_to_look#h[0]*1\n",
    "axes1.plot(P_B_bucket[0][rng1:rng2]/nCav[0],'r.')\n",
    "#axes1.plot(P_B_bucket[1][rng1:rng2]/nCav[1],'g.')\n",
    "#axes1.plot(P_B_bucket[2][rng1:rng2]/nCav[2],'b.')\n",
    "\n",
    "#axes1.set_ylim([0.4,0.7])\n",
    "axes1.set_ylabel(\"P_B [MW]\",fontsize=20)\n",
    "axes1.set_xlabel(\"Bucket #\",fontsize=20)\n",
    "axes1.legend([\"P_B_F\",\"P_B_D\"])\n",
    "axes1.set_title(\"Beam Power per Cavity[MW]\")\n",
    "axes1.tick_params(labelsize=20)\n",
    "y_labels = axes1.get_yticks()\n",
    "#axes1.yaxis.set_major_formatter(ticker.FormatStrFormatter('%0.3f'))\n",
    "\n",
    "fig1.set_figheight(8)\n",
    "fig1.set_figwidth(100)\n",
    "plt.show()"
   ]
  },
  {
   "cell_type": "code",
   "execution_count": null,
   "metadata": {},
   "outputs": [],
   "source": [
    "#plot P_B every turn\n",
    "fig1,axes1 = plt.subplots(1,1)\n",
    "rng1 = 0\n",
    "rng2 = int(nTurns/step)\n",
    "axes1.plot(P_B[rng1:rng2]/1e6,'r.-')\n",
    "fig1.set_figheight(15)\n",
    "fig1.set_figwidth(15)\n",
    "plt.show()\n"
   ]
  },
  {
   "cell_type": "code",
   "execution_count": null,
   "metadata": {
    "scrolled": true
   },
   "outputs": [],
   "source": [
    "# get the generator power, sample every rf bucket\n",
    "\n",
    "P_G_from_VI = V*Ig/2\n",
    "P_G_from_VI = Ig**2*R[0]/4\n",
    "P_G_from_VI[1] = Ig[1]**2*R[1]/4\n",
    "\n",
    "\n",
    "P_G = np.ndarray((nRF,int(nTurns/step*h[0])))\n",
    "for iRF in range(nRF):\n",
    "    for iBucket in range(int(nTurns/step*h[0])):\n",
    "        rng1 = iBucket*NpRF\n",
    "        rng2 = rng1+NpRF*2#fill_step\n",
    "        P_G[iRF][iBucket] = np.sum(P_G_from_VI[iRF][rng1:rng2])/(rng2-rng1)/1e6"
   ]
  },
  {
   "cell_type": "code",
   "execution_count": null,
   "metadata": {},
   "outputs": [],
   "source": [
    "# plot generator forward power per bucket\n",
    "fig1,axes1 = plt.subplots(1,2)\n",
    "rng1 = 3*h[0]\n",
    "rng2 = rng1+h[0]*1\n",
    "axes1[0].plot(P_G[0][rng1:rng2]/nCav[0],'rx-')\n",
    "axes1[1].plot(P_G[1][rng1:rng2]/nCav[1],'g.-')\n",
    "#axes1.plot(P_G[2][rng1:rng2]/nCav[2],'b.-')\n",
    "\n",
    "#axes1.set_ylim([0.5,0.6])\n",
    "axes1[0].set_ylabel(\"P_G [MW]\",fontsize=20)\n",
    "axes1[0].set_xlabel(\"Bucket #\",fontsize=20)\n",
    "axes1[0].legend([\"P_f_F\",\"P_f_D\"])\n",
    "axes1[0].set_title(\"Forward Power per Cavity[MW]\")\n",
    "axes1[0].tick_params(labelsize=20)\n",
    "y_labels = axes1[0].get_yticks()\n",
    "#axes1.yaxis.set_major_formatter(ticker.FormatStrFormatter('%0.3f'))\n",
    "\n",
    "fig1.set_figheight(8)\n",
    "fig1.set_figwidth(20)\n",
    "plt.show()"
   ]
  },
  {
   "cell_type": "code",
   "execution_count": null,
   "metadata": {},
   "outputs": [],
   "source": [
    "# get reflected power\n",
    "Ir = V/R[0]\n",
    "Ir[1] = V[1]/R[1]\n",
    "Ir = Ir-Ig/2\n",
    "Pr = Ir**2*R[0]\n",
    "Pr[1] = Ir[1]**2*R[1]\n",
    "\n",
    "# average over bucket\n",
    "Pr_bucket = np.ndarray((nRF,int(nTurns/step*h[0]))) # average over one bucket?\n",
    "\n",
    "for iRF in range(nRF):\n",
    "    for iBucket in range(int(nTurns/step*h[0])):\n",
    "        rng1 = iBucket*NpRF\n",
    "        rng2 = rng1+NpRF*2#fill_step\n",
    "        Pr_bucket[iRF][iBucket] = np.sum(Pr[iRF][rng1:rng2])/(rng2-rng1)/1e6\n"
   ]
  },
  {
   "cell_type": "code",
   "execution_count": null,
   "metadata": {},
   "outputs": [],
   "source": [
    "# plot reflected power:\n",
    "fig1,axes1 = plt.subplots(1,2)\n",
    "rng1 = 4*h[0]+fill_step*1*0\n",
    "rng2 = rng1+h[0]\n",
    "axes1[0].plot(Pr_bucket[0][rng1:rng2]/nCav[0]*1000,'r.')\n",
    "axes1[1].plot(Pr_bucket[1][rng1:rng2]/nCav[1]*1000,'g.')\n",
    "#axes1.plot(Pr_bucket[2][rng1:rng2]/nCav[1]*1000,'b.')\n",
    "\n",
    "#axes1.set_ylim([3,5])\n",
    "axes1[0].set_ylabel(\"P_r [kW]\",fontsize=20)\n",
    "axes1[0].set_xlabel(\"Bucket #\",fontsize=20)\n",
    "axes1[0].legend([\"P_r_F\",\"P_r_D\"])\n",
    "axes1[0].set_title(\"Reflected Power per Cavity[kW]\")\n",
    "axes1[0].tick_params(labelsize=20)\n",
    "y_labels = axes1[0].get_yticks()\n",
    "#axes1.yaxis.set_major_formatter(ticker.FormatStrFormatter('%0.3f'))\n",
    "\n",
    "fig1.set_figheight(8)\n",
    "fig1.set_figwidth(20)\n",
    "plt.show()"
   ]
  },
  {
   "cell_type": "code",
   "execution_count": null,
   "metadata": {},
   "outputs": [],
   "source": [
    "# energy conservation?\n",
    "# Full\n",
    "fig1,axes1 = plt.subplots(1,nRF+1)\n",
    "turn_to_look = 400\n",
    "bunch_to_look = 1\n",
    "\n",
    "num_of_RF_to_look = 1\n",
    "rng1 = int(turn_to_look/step)*h[0]+bunch_to_look*fill_step-5\n",
    "rng2 = rng1+num_of_RF_to_look#h[0]*1\n",
    "print(\"               Sanity Check, is change of stored energy equals to integral of power difference?\")\n",
    "for iRF in range(nRF):\n",
    "    axes1[iRF].plot(dU_bucket[iRF][rng1:rng2]/nCav[iRF],'r.',ms=20)\n",
    "    #axes1[iRF].plot((P_G[iRF][rng1:rng2]-P_B_bucket[iRF][rng1:rng2])/(f0*h[0])*1e6/nCav[iRF],'gx',ms=15)\n",
    "    axes1[iRF].plot((P_G[iRF][rng1:rng2]-P_B_bucket[iRF][rng1:rng2]-Pr_bucket[iRF][rng1:rng2])/(f0*h[0])*1e6/nCav[iRF],'b.',ms=10)\n",
    "    #axes1[iRF].plot(dU_bucket[iRF][rng1:rng2]/nCav[iRF]-(P_G[iRF][rng1:rng2]-P_B_bucket[iRF][rng1:rng2]-Pr_bucket[iRF][rng1:rng2])/(f0*h[0])*1e6/nCav[iRF],'b.',ms=10)\n",
    "    axes1[iRF].set_ylabel(\"dU [J]\",fontsize=15)\n",
    "    axes1[iRF].set_xlabel(\"Bucket #\",fontsize=20)\n",
    "    axes1[iRF].tick_params(labelsize=12)\n",
    "    #axes1[iRF].set_ylim([0,3e-4])\n",
    "    y_labels = axes1[iRF].get_yticks()\n",
    "    axes1[iRF].yaxis.set_major_formatter(ticker.FormatStrFormatter('%0.2e'))\n",
    "    fig1.set_figheight(8)\n",
    "    fig1.set_figwidth(30)\n",
    "axes1[0].legend([r\"$dU_F$\",r\"$(P_f{_F}-P_B{_F}){\\times}Trf$\",r\"$(P_f{_F}-P_B{_F}-P_r{_F}){\\times}Trf$\"],fontsize=15)\n",
    "axes1[1].legend([r\"$dU_D$\",r\"$(P_f{_D}-P_B{_D}){\\times}Trf$\",r\"$(P_f{_D}-P_B{_D}-P_r{_D}){\\times}Trf$\"],fontsize=15)\n",
    "\n",
    "plt.show()"
   ]
  },
  {
   "cell_type": "code",
   "execution_count": null,
   "metadata": {},
   "outputs": [],
   "source": [
    "# energy conservation?\n",
    "# in gap\n",
    "fig1,axes1 = plt.subplots(1,nRF+1)\n",
    "turn_to_look = 300\n",
    "start_bunch = 0\n",
    "end_bunch = 1\n",
    "\n",
    "rng1 = int(turn_to_look/step)*h[0]+start_bunch*fill_step\n",
    "rng2 = rng1+fill_step*(end_bunch-start_bunch)-12#7560-12\n",
    "bucket_range = np.array([i for i in range(start_bunch*fill_step,fill_step*(end_bunch)-12)])\n",
    "print(\"                                                    In the gap.\")\n",
    "for iRF in range(nRF):\n",
    "    axes1[iRF].plot(bucket_range,dU_bucket[iRF][rng1:rng2]/nCav[iRF],'r.')\n",
    "    axes1[iRF].plot(bucket_range,(P_G[iRF][rng1:rng2]-P_B_bucket[iRF][rng1:rng2])/(f0*h[iRF])*1e6/nCav[iRF],'g.')\n",
    "    axes1[iRF].plot(bucket_range,(P_G[iRF][rng1:rng2]-P_B_bucket[iRF][rng1:rng2]-Pr_bucket[iRF][rng1:rng2])/(f0*h[iRF])*1e6/nCav[iRF],'b.')\n",
    "\n",
    "    axes1[iRF].set_ylabel(\"dU [J]\",fontsize=15)\n",
    "    axes1[iRF].set_xlabel(\"Bucket #\",fontsize=20)\n",
    "    axes1[iRF].tick_params(labelsize=12)\n",
    "    y_labels = axes1[iRF].get_yticks()\n",
    "    axes1[iRF].yaxis.set_major_formatter(ticker.FormatStrFormatter('%0.2e'))\n",
    "    fig1.set_figheight(8)\n",
    "    fig1.set_figwidth(20)\n",
    "axes1[0].legend([r\"$dU_F$\",r\"$(P_f{_F}-P_B{_F}){\\times}Trf$\",r\"$(P_f{_F}-P_B{_F}-P_r{_F}){\\times}Trf$\"],fontsize=15)\n",
    "axes1[1].legend([r\"$dU_D$\",r\"$(P_f{_D}-P_B{_D}){\\times}Trf$\",r\"$(P_f{_D}-P_B{_D}-P_r{_D}){\\times}Trf$\"],fontsize=15)\n",
    "\n",
    "plt.show()"
   ]
  },
  {
   "cell_type": "code",
   "execution_count": null,
   "metadata": {},
   "outputs": [],
   "source": [
    "datafile = 'f_cav.bin'\n",
    "datafile = os.path.join(cwd,datafile)\n",
    "pattern = nRF*'d'\n",
    "stride = len(pattern)*8\n",
    "with open(datafile, mode='rb') as file: # b is important -> binary\n",
    "    fileContent = file.read()\n",
    "data = np.array([struct.unpack(pattern,fileContent[i*stride:(i+1)*stride]) for i in range(int(len(fileContent)/stride))]).T\n",
    "frqs = []\n",
    "for i in range(nRF):\n",
    "    frqs.append(np.array(data[i])/2/np.pi)\n",
    "V_max = []\n",
    "Ig_max = []\n",
    "for i in range(nRF):\n",
    "    V_max.append([])\n",
    "    Ig_max.append([])\n",
    "    for j in range(int(len(V[i])/NpRF/h[0])):\n",
    "        V_max[i].append(np.max(V[i][j*NpRF*h[0]:(j+1)*NpRF*h[0]]))\n",
    "        Ig_max[i].append(np.max(Ig[i][j*NpRF*h[0]:(j+1)*NpRF*h[0]]))\n",
    "Ig_max = np.array(Ig_max)\n",
    "R = np.array(R)\n",
    "Pg = Ig_max*Ig_max/8\n",
    "for i in range(nRF):\n",
    "    Pg[i] = Pg[i]*R[i]\n",
    "Pg_tot = np.sum(Pg,0)\n",
    "# to look at the power variation along the train\n",
    "Pg_train = np.ndarray((int(nTurns/step),nRF,NpRF*h[0]))\n",
    "for sample in range(int(nTurns/step)):\n",
    "    for RF in range(nRF):\n",
    "        Pg_train[sample][RF] = Ig[RF][sample*NpRF*h[0]:(sample+1)*NpRF*h[0]]*Ig[RF][sample*NpRF*h[0]:(sample+1)*NpRF*h[0]]/4*R[RF]\n",
    "Pg_train_average = np.ndarray((int(nTurns/step),nRF,h[0]))\n",
    "\n",
    "for sample in range(int(nTurns/step)):\n",
    "    for RF in range(nRF):\n",
    "        for bucket in range(h[0]):\n",
    "            Pg_train_average[sample][RF][bucket] = np.sum(Pg_train[sample][RF][bucket*NpRF:(bucket+1)*NpRF])/NpRF"
   ]
  },
  {
   "cell_type": "code",
   "execution_count": null,
   "metadata": {},
   "outputs": [],
   "source": [
    "sample_disp = 4# the sample turn we want to see\n",
    "if nRF>1:\n",
    "    fig1,axes1 = plt.subplots(nRF+1,1)\n",
    "    for RF in range(nRF):\n",
    "        axes1[RF].plot(Pg_train_average[sample_disp][RF]/1e6,'r.-',ms=10)\n",
    "        axes1[RF].axvline(x = nBunch*fill_step)\n",
    "    axes1[RF+1].plot(np.sum(Pg_train_average[sample_disp]/1e6,0),'r.-',ms=10)\n",
    "    axes1[RF+1].axvline(x = nBunch*fill_step)\n",
    "    \n",
    "else:\n",
    "    fig1,axes1 = plt.subplots(1,1)\n",
    "    for i in range(nRF):\n",
    "        axes1.plot(Pg_train_average[sample_disp][RF],'rx-',ms=10)\n",
    "        axes1.axvline(x = nBunch*fill_step)\n",
    "fig1.set_figheight(15)\n",
    "fig1.set_figwidth(15)\n",
    "fn_VI = os.path.join(cwd,'Pg.jpg')\n",
    "plt.savefig(fn_VI,bbox_inches='tight')\n",
    "plt.show()"
   ]
  },
  {
   "cell_type": "code",
   "execution_count": null,
   "metadata": {},
   "outputs": [],
   "source": [
    "start = 0 # this number times n_per_step gives real turn number \n",
    "end = int(nTurns/step)\n",
    "if nRF>1:\n",
    "    fig1,axes1 = plt.subplots(2,nRF)\n",
    "    for i in range(nRF):\n",
    "        axes1[0][i].plot(V_max[i][start:end],'r.-',ms=10)\n",
    "        #axes1[0][i].set_yscale('log')\n",
    "        axes1[1][i].axhline(y = h[i])\n",
    "        #axes1[1][i].axhline(y = omegarf[i]/(omegarf[0]/h[0])+1)\n",
    "        #axes1[1][i].axhline(y = omegarf[i]/(omegarf[0]/h[0])-1)\n",
    "        #axes1[2][i].plot(Ig_max[i][start:end],'r.-',ms=10)\n",
    "        axes1[1][i].plot(frqs[i][start:end]/(omegarf[0]/h[0]/2/np.pi),'r.-',ms=10)        \n",
    "else:\n",
    "    fig1,axes1 = plt.subplots(4,1)\n",
    "    for i in range(nRF):\n",
    "        axes1[0].plot(V_max[i][start:end],'r.-',ms=10)\n",
    "        axes1[1].plot(frqs[i][start:end]/(omegarf[0]/h[0]/2/np.pi),'r.-',ms=10)   \n",
    "        #axes1[1].axhline(y = omegarf[i]/(omegarf[0]/h[0]))\n",
    "        \n",
    "fig1.set_figheight(15)\n",
    "fig1.set_figwidth(30)\n",
    "\n",
    "fn_proc = os.path.join(cwd,'process.jpg')\n",
    "plt.savefig(fn_proc,bbox_inches='tight')\n",
    "plt.show()"
   ]
  },
  {
   "cell_type": "code",
   "execution_count": null,
   "metadata": {},
   "outputs": [],
   "source": [
    "Pbeam = \"{0:.2f}\".format(Prad/1e6)\n",
    "P_B_sim = \"{0:.2f}\".format(P_B[-1]/1e6)\n",
    "Pg_expected = \"{0:.2f}\".format(Prad*(NF/(NF+ND)/np.cos(thetaL1/180*pi)**2+ND/(NF+ND)/np.cos(thetaL2/180*pi)**2)/1e6)\n",
    "Pg_max_sim = \"{0:.2f}\".format(Pg_tot[-1]/1e6)"
   ]
  },
  {
   "cell_type": "code",
   "execution_count": null,
   "metadata": {},
   "outputs": [],
   "source": [
    "# plot the Power\n",
    "start = 0 # this number times n_per_step gives real turn number \n",
    "end = int(nTurns/step)\n",
    "fig1,axes1 = plt.subplots(1,1)\n",
    "axes1.plot(Pg_tot/1e6, linewidth=10)\n",
    "axes1.axhline(y = Prad/1e6*(NF/(NF+ND)/np.cos(thetaL1/180*pi)**2+ND/(NF+ND)/np.cos(thetaL2/180*pi)**2),linewidth=4,color='g', linestyle='--')\n",
    "\n",
    "axes1.plot(P_B/1e6, linewidth=10)\n",
    "\n",
    "axes1.axhline(y = Prad/1e6,linewidth=4,color='r')\n",
    "\n",
    "axes1.tick_params(labelsize=50)\n",
    "axes1.set_ylabel(\"Generator Power [MW]\",fontsize=30)\n",
    "axes1.set_xlabel(\"# of Turn [x\"+str(step)+\"]\",fontsize=30)\n",
    "axes1.set_title(\"Generator Power vs Turn, thetaL1 = \"+str(thetaL1)+\",thetaL2 = \"+str(thetaL2)+\" [degree] \",fontsize=40)\n",
    "axes1.legend([\"Generator Power from simulation = \"+Pg_max_sim+\" [MW]\", \"Pb/Cos(thetaL)**2 = \"+Pg_expected+\" [MW]\",\"Beam Power (simulated) = \"+P_B_sim+\" [MW])\",\"Beam Power (Pb) = \"+Pbeam+\" [MW]\"],prop={'size': 30})\n",
    "axes1.tick_params(labelsize=30)\n",
    "y_labels = axes1.get_yticks()\n",
    "axes1.yaxis.set_major_formatter(ticker.FormatStrFormatter('%0.3f'))\n",
    "\n",
    "fig1.set_figheight(15)\n",
    "fig1.set_figwidth(30)\n",
    "\n",
    "fn_proc = os.path.join(cwd,'Pg.jpg')\n",
    "plt.savefig(fn_proc,bbox_inches='tight')\n",
    "plt.show()"
   ]
  },
  {
   "cell_type": "code",
   "execution_count": null,
   "metadata": {},
   "outputs": [],
   "source": [
    "def smooth(data,n):\n",
    "    data_temp = np.zeros(len(data))\n",
    "    step = int(n/2)\n",
    "    data_temp[:step+1] = data[:step+1]\n",
    "    for i in range(n):\n",
    "        data_temp[step:len(data)-step] += data[i:len(data)-n+i+1]\n",
    "    return data_temp/n\n"
   ]
  },
  {
   "cell_type": "code",
   "execution_count": null,
   "metadata": {},
   "outputs": [],
   "source": [
    "Ib_smooth = smooth(Ibi,3)"
   ]
  },
  {
   "cell_type": "code",
   "execution_count": null,
   "metadata": {},
   "outputs": [],
   "source": [
    "# range plot\n",
    "turn_disp = 4\n",
    "fig1,axes1 = plt.subplots(1,1)\n",
    "nBunch_disp = int(nBunch/10)\n",
    "bunch_disp_step = int(nBunch/nBunch_disp)\n",
    "rng3 = 0\n",
    "\n",
    "for bunch in range(nBunch_disp):\n",
    "    rng1 = turn_disp*h[0]*NpRF+(nBunch_disp-bunch-1)*bunch_disp_step*NpRF*fill_step\n",
    "    rng2 = rng1+NpRF\n",
    "    bins = np.array([rng3+i for i in range(NpRF-rng3*2)])\n",
    "    axes1.plot(bins,Ib_smooth[rng1+rng3:rng2-rng3]+(nBunch_disp-bunch)*0.5,'r-',ms = 0.2,linewidth=0.2)\n",
    "\n",
    "axes1.tick_params(labelsize=50)\n",
    "axes1.set_xlabel(\"Bin #\",fontsize=30)\n",
    "axes1.set_title(\"Ib along the train\",fontsize=40)\n",
    "axes1.tick_params(labelsize=30)\n",
    "y_labels = axes1.get_yticks()\n",
    "axes1.yaxis.set_major_formatter(ticker.FormatStrFormatter('%0.3f'))\n",
    "\n",
    "fig1.set_figheight(15)\n",
    "fig1.set_figwidth(30)\n",
    "\n",
    "fn_proc = os.path.join(cwd,'range_plot.jpg')\n",
    "plt.savefig(fn_proc,bbox_inches='tight')\n",
    "plt.show()"
   ]
  },
  {
   "cell_type": "code",
   "execution_count": null,
   "metadata": {},
   "outputs": [],
   "source": [
    "h"
   ]
  },
  {
   "cell_type": "code",
   "execution_count": null,
   "metadata": {},
   "outputs": [],
   "source": [
    "(omegac-np.array(h)*f0*2*pi)/2/pi"
   ]
  },
  {
   "cell_type": "code",
   "execution_count": null,
   "metadata": {},
   "outputs": [],
   "source": [
    "NC =14\n",
    "NF = 7\n",
    "ND = NC-NF\n",
    "\n",
    "Vs = 3.7e6/NC\n",
    "Vq = np.sqrt((23.7e6/NC)**2-Vs**2)\n",
    "V0 = np.sqrt(Vs**2+Vq**2)\n",
    "PhiPhasor0 = np.arctan(Vq/Vs)\n",
    "\n",
    "\n",
    "#Vsnew = Vs\n",
    "#Vqnew = Vq*NC/(NF-ND)\n",
    "#V0new = np.sqrt(Vsnew**2+Vqnew**2)\n",
    "\n",
    "VF = 3.4e6\n",
    "VD = 0.1e6\n",
    "\n",
    "VF = VF*NF\n",
    "VD = VD*ND\n",
    "V0 = V0*NC\n",
    "PhiPhasor1 = PhiPhasor0+np.arccos((VF**2+V0**2-VD**2)/(2*VF*V0))\n",
    "print(\"New Phasor angle : \",PhiPhasor1/pi*180)"
   ]
  },
  {
   "cell_type": "code",
   "execution_count": null,
   "metadata": {
    "scrolled": false
   },
   "outputs": [],
   "source": [
    "nRF = 2\n",
    "f0 = 78196.2883627698\n",
    "f = 7560*78e3\n",
    "N_thetaL = np.zeros(nRF)\n",
    "dThetaL = np.zeros(nRF)\n",
    "Vreftot_per_cav = np.array([4870005,4870005])\n",
    "Vs = np.array([2.16e5,2.16e5])\n",
    "Vq = np.array([4.865e6,-4.865e6])\n",
    "IbDC = 2.5\n",
    "NC = np.array([12,6])\n",
    "QL = np.array([593517,593517])\n",
    "PhisPhasor = np.arctan(Vq/Vs)\n",
    "\n",
    "\n",
    "N_thetaL[0] = 100 # number of sample for thetaL, same for both frequencies if nRF = 2, namely we are scanning a squre grid\n",
    "N_thetaL[1] = 100\n",
    "ThetaL_min = np.zeros(nRF)#17.5\n",
    "ThetaL_max = np.zeros(nRF)#17.5\n",
    "\n",
    "ThetaL_min[0] = -20\n",
    "ThetaL_max[0] = 20\n",
    "ThetaL_min[1] = -20 \n",
    "ThetaL_max[1] = 20 \n",
    "dThetaL = (ThetaL_max-ThetaL_min)/N_thetaL\n",
    "df1 = np.zeros(int(N_thetaL[0]))\n",
    "thetaL1 = np.zeros(int(N_thetaL[0]))\n",
    "df2 = np.zeros(int(N_thetaL[1]))\n",
    "thetaL2 = np.zeros(int(N_thetaL[1]))\n",
    "\n",
    "\n",
    "Rsh = np.array([37,37])*NC*QL\n",
    "Vreftot = Vreftot_per_cav*NC\n",
    "\n",
    "for thetaL_factor in range(int(N_thetaL[0])):\n",
    "    thetaL1[thetaL_factor] = (ThetaL_min[0]+dThetaL[0]*thetaL_factor)/180.0*pi  # angle between Ig and Vc\n",
    "    Vbr = 2*IbDC*Rsh\n",
    "    Vgr = Vreftot/np.cos(thetaL1[thetaL_factor])*(1+Vbr/Vreftot*np.cos(PhisPhasor))\n",
    "\n",
    "    tgPhi = -(Vbr*np.sin(PhisPhasor)/Vreftot+(1+Vbr*np.cos(PhisPhasor)/Vreftot)*np.tan(thetaL1[thetaL_factor]))\n",
    "    delta_f = f*(tgPhi/2/QL+np.sqrt((tgPhi/2/QL)**2+1))-f\n",
    "    \n",
    "    df1[thetaL_factor] = delta_f[0]\n",
    "    \n",
    "    \n",
    "for thetaL_factor in range(int(N_thetaL[1])):\n",
    "    thetaL2[thetaL_factor] = (ThetaL_min[1]+dThetaL[1]*thetaL_factor)/180.0*pi\n",
    "    Vbr = 2*IbDC*Rsh\n",
    "    Vgr = Vreftot/np.cos(thetaL2[thetaL_factor])*(1+Vbr/Vreftot*np.cos(PhisPhasor))\n",
    "\n",
    "    tgPhi = -(Vbr*np.sin(PhisPhasor)/Vreftot+(1+Vbr*np.cos(PhisPhasor)/Vreftot)*np.tan(thetaL2[thetaL_factor]))\n",
    "    delta_f = f*(tgPhi/2/QL+np.sqrt((tgPhi/2/QL)**2+1))-f\n",
    "    df2[thetaL_factor] = delta_f[1]\n",
    "\n",
    "print(\"ThetaL1\\t\",\"df1\\t\\t\",\"ThetaL2\\t\\t\",\"df2\\t\")\n",
    "for i in range(len(df1)):\n",
    "    print(\"{0:0.1f}\".format(thetaL1[i]/pi*180),\"\\t\", \"{0:0.1f}\".format(df1[i]),'\\t\\t',\"{0:0.1f}\".format(thetaL2[i]/pi*180),\"\\t\\t\", \"{0:0.1f}\".format(df2[i]))\n"
   ]
  },
  {
   "cell_type": "code",
   "execution_count": null,
   "metadata": {},
   "outputs": [],
   "source": [
    "t1 = np.ndarray((2,100))\n",
    "t2 = np.ndarray((2,100))\n",
    "for i in range(2):\n",
    "    for j in range(100):\n",
    "        t1[i][j]=(-1)**i*(i*2+j*2)\n",
    "        t2[i][j]=(-1)**i*(i*2+j)\n",
    "        \n",
    "a = np.ndarray((2,10))\n",
    "b = t1*t2\n",
    "\n",
    "for i in range(2):\n",
    "    for j in range(10):\n",
    "        a[i][j] = np.sum(b[i][j*10:(j+1)*10])/10"
   ]
  },
  {
   "cell_type": "code",
   "execution_count": null,
   "metadata": {},
   "outputs": [],
   "source": [
    "a"
   ]
  },
  {
   "cell_type": "code",
   "execution_count": null,
   "metadata": {},
   "outputs": [],
   "source": [
    "t1"
   ]
  },
  {
   "cell_type": "code",
   "execution_count": null,
   "metadata": {},
   "outputs": [],
   "source": [
    "t2"
   ]
  },
  {
   "cell_type": "code",
   "execution_count": null,
   "metadata": {},
   "outputs": [],
   "source": [
    "b"
   ]
  },
  {
   "cell_type": "code",
   "execution_count": null,
   "metadata": {},
   "outputs": [],
   "source": [
    "a"
   ]
  },
  {
   "cell_type": "code",
   "execution_count": null,
   "metadata": {},
   "outputs": [],
   "source": []
  }
 ],
 "metadata": {
  "kernelspec": {
   "display_name": "Python 3 (ipykernel)",
   "language": "python",
   "name": "python3"
  },
  "language_info": {
   "codemirror_mode": {
    "name": "ipython",
    "version": 3
   },
   "file_extension": ".py",
   "mimetype": "text/x-python",
   "name": "python",
   "nbconvert_exporter": "python",
   "pygments_lexer": "ipython3",
   "version": "3.7.9"
  }
 },
 "nbformat": 4,
 "nbformat_minor": 2
}
